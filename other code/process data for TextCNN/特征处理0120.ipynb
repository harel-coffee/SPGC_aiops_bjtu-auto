{
 "cells": [
  {
   "cell_type": "markdown",
   "metadata": {},
   "source": [
    "# test 特征工程\n",
    "## 1.feature_edge feature_engineering feature_length\n",
    "## 2.文件行数>30行的文件：截断到30行\n",
    "## 3.文件行数<30行的文件：用每一个特征的均值填充到30行\n",
    "## 4.如果某一个特征在某一个文件里有缺失值，则用该文件下的该特征的均值填充，如果某一个文件的某一个特征全部为缺失值，则用该文件前后两个文件的该特征的均值进行线性填充"
   ]
  },
  {
   "cell_type": "code",
   "execution_count": 2,
   "metadata": {},
   "outputs": [],
   "source": [
    "# 所有图上的feature,包含feature_edge和feature_diatance,feature_length\n",
    "feature_list = ['feature0', 'feature1', 'feature2', 'feature11', 'feature12', 'feature13', 'feature15', 'feature16', 'feature17', 'feature18', \n",
    "           'feature19', 'feature20_0', 'feature20_1', 'feature20_2', 'feature20_3', 'feature20_4', 'feature20_5', 'feature20_6', \n",
    "           'feature20_7','feature60', 'feature61_0', 'feature61_1', 'feature61_2', 'feature61_3',  'feature61_4', 'feature61_5', \n",
    "           'feature61_6', 'feature61_7','feature69_0', 'feature69_1', 'feature69_2', 'feature69_3','feature69_4', 'feature69_5', \n",
    "           'feature69_6', 'feature69_7', 'feature28_0', 'feature28_1', 'feature28_2','feature28_3', 'feature28_4', 'feature28_5', 'feature28_6',\n",
    "       'feature28_7','feature36_0', 'feature36_1', 'feature36_2', 'feature36_3', 'feature36_4', 'feature36_5', 'feature36_6',\n",
    "       'feature36_7', 'feature44_0', 'feature44_1', 'feature44_2', 'feature44_3', 'feature44_4', 'feature44_5', 'feature44_6',\n",
    "       'feature44_7', 'feature52_0', 'feature52_1', 'feature52_2', 'feature52_3', 'feature52_4', 'feature52_5', 'feature52_6',\n",
    "       'feature52_7', 'feature77_0', 'feature77_1', 'feature77_2', 'feature77_3',  'feature77_4', 'feature77_5', \n",
    "           'feature77_6', 'feature77_7','feature85_0', 'feature85_1', 'feature85_2', 'feature85_3','feature85_4', 'feature85_5', \n",
    "           'feature85_6', 'feature85_7', 'feature_edge', 'feature_distance','feature_length']"
   ]
  },
  {
   "cell_type": "code",
   "execution_count": 3,
   "metadata": {},
   "outputs": [],
   "source": [
    "def edge_count(test):\n",
    "    edge_list = [0,1,6,7,8,9,14,15,16,17,22,23,24,25,30,31]\n",
    "    feature_edge = []\n",
    "    for i in range(len(test)):\n",
    "        current_direction = [m for m in test.iloc[i].tolist() if m in edge_list]\n",
    "        feature_edge.append(len(current_direction))\n",
    "    test['feature_edge'] = feature_edge\n",
    "    return test.feature_edge"
   ]
  },
  {
   "cell_type": "code",
   "execution_count": 4,
   "metadata": {},
   "outputs": [],
   "source": [
    "def distance_count(test):\n",
    "    feature_distance = []\n",
    "    for i in range(len(test)):\n",
    "        coordinate = []\n",
    "        for m in (test.iloc[i].tolist()):\n",
    "            coordinate.append((m-8*(m//8), m//8))\n",
    "        distance = 0\n",
    "        for a in coordinate:\n",
    "            for b in coordinate:\n",
    "                distance = distance + ((a[0]-b[0])**2 + (a[1]-b[1])**2)**0.5\n",
    "        feature_distance.append(distance)\n",
    "    test['feature_distance'] = feature_distance\n",
    "    return test.feature_distance"
   ]
  },
  {
   "cell_type": "code",
   "execution_count": 5,
   "metadata": {},
   "outputs": [],
   "source": [
    "look_up = pd.read_csv('D:/2022 AIops/feature engineering/new_sample_mean.csv')\n",
    "look_up_column = look_up.columns.tolist()"
   ]
  },
  {
   "cell_type": "code",
   "execution_count": 13,
   "metadata": {},
   "outputs": [
    {
     "data": {
      "text/html": [
       "<div>\n",
       "<style scoped>\n",
       "    .dataframe tbody tr th:only-of-type {\n",
       "        vertical-align: middle;\n",
       "    }\n",
       "\n",
       "    .dataframe tbody tr th {\n",
       "        vertical-align: top;\n",
       "    }\n",
       "\n",
       "    .dataframe thead th {\n",
       "        text-align: right;\n",
       "    }\n",
       "</style>\n",
       "<table border=\"1\" class=\"dataframe\">\n",
       "  <thead>\n",
       "    <tr style=\"text-align: right;\">\n",
       "      <th></th>\n",
       "      <th>feature0</th>\n",
       "      <th>feature1</th>\n",
       "      <th>feature11</th>\n",
       "      <th>feature12</th>\n",
       "      <th>feature13</th>\n",
       "      <th>feature14</th>\n",
       "      <th>feature15</th>\n",
       "      <th>feature16</th>\n",
       "      <th>feature17</th>\n",
       "      <th>feature18</th>\n",
       "      <th>...</th>\n",
       "      <th>feature69_1</th>\n",
       "      <th>feature69_2</th>\n",
       "      <th>feature69_3</th>\n",
       "      <th>feature69_4</th>\n",
       "      <th>feature69_5</th>\n",
       "      <th>feature69_6</th>\n",
       "      <th>feature_distance</th>\n",
       "      <th>feature_edge</th>\n",
       "      <th>feature_length</th>\n",
       "      <th>feature69_7</th>\n",
       "    </tr>\n",
       "  </thead>\n",
       "  <tbody>\n",
       "    <tr>\n",
       "      <th>mean</th>\n",
       "      <td>188.437226</td>\n",
       "      <td>14.042381</td>\n",
       "      <td>0.406316</td>\n",
       "      <td>10.701523</td>\n",
       "      <td>329677.286138</td>\n",
       "      <td>238.642620</td>\n",
       "      <td>1362.209091</td>\n",
       "      <td>11.151503</td>\n",
       "      <td>1.784089</td>\n",
       "      <td>3.832962</td>\n",
       "      <td>...</td>\n",
       "      <td>-3.940056</td>\n",
       "      <td>-4.133553</td>\n",
       "      <td>-3.955606</td>\n",
       "      <td>-3.73240</td>\n",
       "      <td>-3.669570</td>\n",
       "      <td>-3.935985</td>\n",
       "      <td>151.073949</td>\n",
       "      <td>4.046620</td>\n",
       "      <td>10.613362</td>\n",
       "      <td>-4.137284</td>\n",
       "    </tr>\n",
       "    <tr>\n",
       "      <th>std</th>\n",
       "      <td>75.054971</td>\n",
       "      <td>3.196888</td>\n",
       "      <td>0.894491</td>\n",
       "      <td>4.391442</td>\n",
       "      <td>79383.220086</td>\n",
       "      <td>27.612517</td>\n",
       "      <td>286.258150</td>\n",
       "      <td>2.103542</td>\n",
       "      <td>0.677878</td>\n",
       "      <td>10.009347</td>\n",
       "      <td>...</td>\n",
       "      <td>8.542593</td>\n",
       "      <td>8.550036</td>\n",
       "      <td>8.337339</td>\n",
       "      <td>8.43978</td>\n",
       "      <td>8.592275</td>\n",
       "      <td>8.484104</td>\n",
       "      <td>31.306035</td>\n",
       "      <td>1.913684</td>\n",
       "      <td>40.711189</td>\n",
       "      <td>8.297124</td>\n",
       "    </tr>\n",
       "  </tbody>\n",
       "</table>\n",
       "<p>2 rows × 60 columns</p>\n",
       "</div>"
      ],
      "text/plain": [
       "        feature0   feature1  feature11  feature12      feature13   feature14  \\\n",
       "mean  188.437226  14.042381   0.406316  10.701523  329677.286138  238.642620   \n",
       "std    75.054971   3.196888   0.894491   4.391442   79383.220086   27.612517   \n",
       "\n",
       "        feature15  feature16  feature17  feature18  ...  feature69_1  \\\n",
       "mean  1362.209091  11.151503   1.784089   3.832962  ...    -3.940056   \n",
       "std    286.258150   2.103542   0.677878  10.009347  ...     8.542593   \n",
       "\n",
       "      feature69_2  feature69_3  feature69_4  feature69_5  feature69_6  \\\n",
       "mean    -4.133553    -3.955606     -3.73240    -3.669570    -3.935985   \n",
       "std      8.550036     8.337339      8.43978     8.592275     8.484104   \n",
       "\n",
       "      feature_distance  feature_edge  feature_length  feature69_7  \n",
       "mean        151.073949      4.046620       10.613362    -4.137284  \n",
       "std          31.306035      1.913684       40.711189     8.297124  \n",
       "\n",
       "[2 rows x 60 columns]"
      ]
     },
     "execution_count": 13,
     "metadata": {},
     "output_type": "execute_result"
    }
   ],
   "source": [
    "train = pd.read_csv('D:/2022 AIops/feature engineering/labeled_train_mean.csv', index_col=0)\n",
    "train = train.drop(columns=['1','2','3','4','5','6','index'], axis=0)\n",
    "tongji = train.describe().loc[['mean','std']]\n",
    "tongji"
   ]
  },
  {
   "cell_type": "code",
   "execution_count": 8,
   "metadata": {},
   "outputs": [],
   "source": [
    "def z_score(test):\n",
    "    rows = test.index.tolist()\n",
    "    columns = test.columns.tolist()\n",
    "    for i in range(len(rows)):\n",
    "        for j in range(len(columns)):\n",
    "            test.loc[rows[i],columns[j]]=(test.loc[rows[i],columns[j]] - tongji.loc['mean',columns[j]])/tongji.loc['std',columns[j]]\n",
    "    return test"
   ]
  },
  {
   "cell_type": "code",
   "execution_count": 11,
   "metadata": {},
   "outputs": [
    {
     "name": "stderr",
     "output_type": "stream",
     "text": [
      "C:\\Users\\HP\\AppData\\Local\\Temp/ipykernel_10712/3203629152.py:7: SettingWithCopyWarning: \n",
      "A value is trying to be set on a copy of a slice from a DataFrame.\n",
      "Try using .loc[row_indexer,col_indexer] = value instead\n",
      "\n",
      "See the caveats in the documentation: http://pandas.pydata.org/pandas-docs/stable/user_guide/indexing.html#returning-a-view-versus-a-copy\n",
      "  test['feature_edge'] = feature_edge\n",
      "C:\\Users\\HP\\AppData\\Local\\Temp/ipykernel_10712/1617231302.py:12: SettingWithCopyWarning: \n",
      "A value is trying to be set on a copy of a slice from a DataFrame.\n",
      "Try using .loc[row_indexer,col_indexer] = value instead\n",
      "\n",
      "See the caveats in the documentation: http://pandas.pydata.org/pandas-docs/stable/user_guide/indexing.html#returning-a-view-versus-a-copy\n",
      "  test['feature_distance'] = feature_distance\n"
     ]
    }
   ],
   "source": [
    "for i in range(600):\n",
    "    m = pd.read_csv('D:/2022 AIops/test/'+'{}.csv'.format(i))\n",
    "    test = m[['feature20_0','feature20_1','feature20_2','feature20_3','feature20_4','feature20_5','feature20_6','feature20_7']]\n",
    "    m['feature_edge'] = edge_count(test)\n",
    "    m['feature_distance'] = distance_count(test)\n",
    "    m['feature_length'] = [len(m)]*len(m)\n",
    "    if len(m)>=30:\n",
    "        m = m.iloc[:30,:]\n",
    "        m = m[feature_list]\n",
    "        for column in (m.columns[m.isnull().sum() > 0]).tolist():\n",
    "            mean_val = m[column].mean()\n",
    "            m[column].fillna(mean_val, inplace=True)\n",
    "        for column in (m.columns[m.isnull().sum() > 0]).tolist():\n",
    "            if column in look_up_column:\n",
    "                val = look_up[look_up.index==i][column]\n",
    "                m[column].fillna(val[i], inplace=True)\n",
    "        m.to_csv('D:/2022 AIops/feature engineering/0120/test_30rows/{}.csv'.format(i))\n",
    "\n",
    "    if len(m)< 30:\n",
    "        m = m[feature_list]\n",
    "        add = m.mean().to_frame().T\n",
    "        for t in range(30-len(m)):\n",
    "            m = m.append(add)        \n",
    "        for column in m.columns[m.isnull().sum() > 0].tolist():\n",
    "            mean_val = m[column].mean()\n",
    "            m[column].fillna(mean_val, inplace=True)\n",
    "        for column in (m.columns[m.isnull().sum() > 0]).tolist():\n",
    "            if column in look_up_column:\n",
    "                val = look_up[look_up.index==i][column]\n",
    "                m[column].fillna(val[i], inplace=True)\n",
    "        m.to_csv('D:/2022 AIops/feature engineering/0120/test_30rows/{}.csv'.format(i))"
   ]
  },
  {
   "cell_type": "code",
   "execution_count": 14,
   "metadata": {},
   "outputs": [],
   "source": [
    "for i in range(600):\n",
    "    test = pd.read_csv('D:/2022 AIops/feature engineering/0120/test_30rows/{}.csv'.format(i),index_col=0)\n",
    "    test = test.reset_index()\n",
    "    test = test.drop(columns=['index','feature44_0', 'feature44_1', 'feature44_2', 'feature44_3', 'feature44_4', 'feature44_5', 'feature44_6',\n",
    "       'feature44_7', 'feature52_0', 'feature52_1', 'feature52_2', 'feature52_3', 'feature52_4', 'feature52_5', 'feature52_6',\n",
    "       'feature52_7', 'feature77_0', 'feature77_1', 'feature77_2', 'feature77_3',  'feature77_4', 'feature77_5', \n",
    "           'feature77_6', 'feature77_7','feature85_0', 'feature85_1', 'feature85_2', 'feature85_3','feature85_4', 'feature85_5', \n",
    "           'feature85_6', 'feature85_7'], axis=1)\n",
    "    test = z_score(test)\n",
    "    test.to_csv('D:/2022 AIops/feature engineering/0120/test_30rows_nor/{}.csv'.format(i))"
   ]
  },
  {
   "cell_type": "code",
   "execution_count": null,
   "metadata": {},
   "outputs": [],
   "source": []
  }
 ],
 "metadata": {
  "kernelspec": {
   "display_name": "Python 3",
   "language": "python",
   "name": "python3"
  },
  "language_info": {
   "codemirror_mode": {
    "name": "ipython",
    "version": 3
   },
   "file_extension": ".py",
   "mimetype": "text/x-python",
   "name": "python",
   "nbconvert_exporter": "python",
   "pygments_lexer": "ipython3",
   "version": "3.8.5"
  },
  "varInspector": {
   "cols": {
    "lenName": 16,
    "lenType": 16,
    "lenVar": 40
   },
   "kernels_config": {
    "python": {
     "delete_cmd_postfix": "",
     "delete_cmd_prefix": "del ",
     "library": "var_list.py",
     "varRefreshCmd": "print(var_dic_list())"
    },
    "r": {
     "delete_cmd_postfix": ") ",
     "delete_cmd_prefix": "rm(",
     "library": "var_list.r",
     "varRefreshCmd": "cat(var_dic_list()) "
    }
   },
   "types_to_exclude": [
    "module",
    "function",
    "builtin_function_or_method",
    "instance",
    "_Feature"
   ],
   "window_display": false
  }
 },
 "nbformat": 4,
 "nbformat_minor": 4
}
