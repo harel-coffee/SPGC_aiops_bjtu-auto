{
 "cells": [
  {
   "cell_type": "code",
   "execution_count": 2,
   "id": "cd9dcf2b",
   "metadata": {},
   "outputs": [],
   "source": [
    "from sklearn.datasets import load_iris\n",
    "import six\n",
    "import sys\n",
    "sys.modules['sklearn.externals.six'] = six\n",
    "from skrules import SkopeRules"
   ]
  },
  {
   "cell_type": "code",
   "execution_count": 5,
   "id": "fe6e8202",
   "metadata": {},
   "outputs": [
    {
     "name": "stdout",
     "output_type": "stream",
     "text": [
      "Rules for iris setosa\n",
      "('petal_length <= 2.449999988079071', (1.0, 1.0, 22))\n",
      "('petal_width <= 0.800000011920929', (1.0, 1.0, 24))\n",
      "\n",
      "====================\n",
      "\n",
      "Rules for iris versicolor\n",
      "('petal_length <= 5.0 and petal_length > 2.449999988079071 and petal_width <= 1.6500000357627869', (0.9880952380952381, 0.9645490640952921, 2))\n",
      "('petal_length <= 4.75 and petal_width > 0.800000011920929', (0.975, 0.9285714285714286, 1))\n",
      "('sepal_length > 4.950000047683716 and petal_width <= 1.75 and petal_width > 0.800000011920929', (0.9285714285714286, 0.9512195121951219, 1))\n",
      "\n",
      "====================\n",
      "\n",
      "Rules for iris virginica\n",
      "('petal_length > 4.75 and petal_width > 1.75', (0.9786628733997156, 0.9200646785820085, 5))\n",
      "('petal_width > 1.75', (0.9734126984126984, 0.90124778204401, 4))\n",
      "('petal_length > 4.950000047683716', (0.9444444444444444, 0.8717948717948718, 1))\n",
      "\n",
      "====================\n",
      "\n"
     ]
    }
   ],
   "source": [
    "dataset = load_iris()\n",
    "feature_names = ['sepal_length', 'sepal_width', 'petal_length', 'petal_width']\n",
    "clf = SkopeRules(max_depth_duplication=2,\n",
    "                 n_estimators=30,\n",
    "                 precision_min=0.3,\n",
    "                 recall_min=0.1,\n",
    "                 feature_names=feature_names)\n",
    "\n",
    "for idx, species in enumerate(dataset.target_names):\n",
    "    X, y = dataset.data, dataset.target\n",
    "    clf.fit(X, y == idx)\n",
    "    rules = clf.rules_[0:3]\n",
    "    print(\"Rules for iris\", species)\n",
    "    for rule in rules:\n",
    "        print(rule)\n",
    "    print()\n",
    "    print(20*'=')\n",
    "    print()"
   ]
  },
  {
   "cell_type": "code",
   "execution_count": 1,
   "id": "e80866eb",
   "metadata": {},
   "outputs": [],
   "source": [
    "import os\n",
    "import pandas as pd\n",
    "import numpy as np"
   ]
  },
  {
   "cell_type": "code",
   "execution_count": 3,
   "id": "8d32021b",
   "metadata": {},
   "outputs": [],
   "source": [
    "##  load data and label\n",
    "data_path = r'C:\\Users\\zx199\\Desktop\\通信网络运维比赛\\code整理\\all_file'\n",
    "\n",
    "df_train = pd.read_csv(os.path.join(data_path,'train_for_ml.csv'),index_col = 0)\n",
    "df_test = pd.read_csv(os.path.join(data_path,'test_for_ml.csv'),index_col = 0)  ## 现在是150\n",
    "\n",
    "df_train_label = pd.read_csv(os.path.join(data_path,'train_label.csv'),index_col='sample_index')\n",
    "df_test_label = pd.read_csv(os.path.join(data_path,'test_label.csv'),index_col='sample_index')"
   ]
  },
  {
   "cell_type": "code",
   "execution_count": 4,
   "id": "966c52a7",
   "metadata": {},
   "outputs": [],
   "source": [
    "# process data\n",
    "\n",
    "feature_select =  ['feature0', 'feature1', 'feature2',\n",
    "                   'feature13','feature15', 'feature16',\n",
    "                   'feature17','feature18', 'feature19', 'feature60',\n",
    "                   'feature20_distance','feature11', 'feature12',\n",
    "                   'featureY_mean','featureX_mean'] \n",
    "data_train = df_train.loc[:,feature_select+['sample_index']]\n",
    "data_test = df_test.loc[:,feature_select+['sample_index']]\n",
    "\n",
    "# 标准化\n",
    "# from sklearn.preprocessing import StandardScaler,MinMaxScaler\n",
    "# scaler = StandardScaler()\n",
    "# scaler.fit(pd.concat([data_train[feature_select],data_test[feature_select]]))\n",
    "# data_train_norm = scaler.transform(data_train[feature_select].values)\n",
    "# data_train[feature_select] = data_train_norm\n",
    "# data_test_norm = scaler.transform(data_test[feature_select].values)\n",
    "\n",
    "# # 处理空值\n",
    "# data_train[feature_select].fillna(data_train[feature_select].mean(),inplace=True)\n",
    "# data_test[feature_select].fillna(data_test[feature_select].mean(),inplace=True)"
   ]
  },
  {
   "cell_type": "code",
   "execution_count": 5,
   "id": "571b0c4d",
   "metadata": {},
   "outputs": [
    {
     "name": "stdout",
     "output_type": "stream",
     "text": [
      "Rules for my dataset\n",
      "('featureY_mean > -104.48262023925781 and feature2 > 1.7400000095367432 and feature13 <= 216967.0', (0.9876543209876543, 0.9876543209876543, 1))\n",
      "('feature13 <= 208640.0 and feature19 > -98.25', (0.975, 0.975, 1))\n",
      "\n",
      "====================\n",
      "\n"
     ]
    }
   ],
   "source": [
    "data_train = df_train.groupby('sample_index').mean()\n",
    "data_train['Root1'] = df_train_label.loc[:,'Root1']\n",
    "data_train.reset_index(inplace=True)\n",
    "data_train.dropna(inplace=True)\n",
    "\n",
    "X_train = data_train.loc[:,feature_select]\n",
    "y_train = data_train['Root1'] \n",
    "\n",
    "feature_names = feature_select\n",
    "clf = SkopeRules(max_depth_duplication=2,\n",
    "                 n_estimators=30,\n",
    "                 precision_min=0.3,\n",
    "                 recall_min=0.1,\n",
    "                 feature_names=feature_names)\n",
    "clf.fit(X_train,y_train)\n",
    "rules = clf.rules_\n",
    "print(\"Rules for my dataset\")\n",
    "for rule in rules:\n",
    "    print(rule)\n",
    "print()\n",
    "print(20*'=')\n",
    "print()"
   ]
  },
  {
   "cell_type": "code",
   "execution_count": 6,
   "id": "28d15531",
   "metadata": {},
   "outputs": [
    {
     "name": "stdout",
     "output_type": "stream",
     "text": [
      "Rules for my dataset\n",
      "('feature19 <= -100.06499862670898', (0.9777777777777777, 0.8627450980392157, 1))\n",
      "('feature17 <= 2.015625 and feature19 <= -100.06499862670898', (1.0, 0.8444897959183674, 3))\n",
      "('feature2 <= 1.9988157749176025 and feature19 > -100.00499725341797 and feature60 <= -98.1328125', (0.3684210526315789, 0.1320754716981132, 1))\n",
      "\n",
      "====================\n",
      "\n"
     ]
    }
   ],
   "source": [
    "data_train = df_train.groupby('sample_index').mean()\n",
    "data_train['Root2'] = df_train_label.loc[:,'Root2']\n",
    "data_train.reset_index(inplace=True)\n",
    "data_train.dropna(inplace=True)\n",
    "\n",
    "X_train = data_train.loc[:,feature_select]\n",
    "y_train = data_train['Root2'] \n",
    "\n",
    "feature_names = feature_select\n",
    "clf = SkopeRules(max_depth_duplication=2,\n",
    "                 n_estimators=30,\n",
    "                 precision_min=0.3,\n",
    "                 recall_min=0.1,\n",
    "                 feature_names=feature_names)\n",
    "clf.fit(X_train,y_train)\n",
    "rules = clf.rules_\n",
    "print(\"Rules for my dataset\")\n",
    "for rule in rules:\n",
    "    print(rule)\n",
    "print()\n",
    "print(20*'=')\n",
    "print()"
   ]
  },
  {
   "cell_type": "code",
   "execution_count": 7,
   "id": "5f8fd3a9",
   "metadata": {},
   "outputs": [
    {
     "name": "stdout",
     "output_type": "stream",
     "text": [
      "Rules for my dataset\n",
      "('feature13 > 207585.5 and feature18 <= 21.301400184631348 and feature60 > -107.75499725341797', (0.998, 0.9960079840319361, 1))\n",
      "('feature15 > 874.0 and feature18 <= 18.9399995803833 and feature60 > -108.00499725341797', (0.995995995995996, 0.995, 1))\n",
      "\n",
      "====================\n",
      "\n"
     ]
    }
   ],
   "source": [
    "data_train = df_train.groupby('sample_index').mean()\n",
    "data_train['Root3'] = df_train_label.loc[:,'Root3']\n",
    "data_train.reset_index(inplace=True)\n",
    "data_train.dropna(inplace=True)\n",
    "\n",
    "X_train = data_train.loc[:,feature_select]\n",
    "y_train = data_train['Root3'] \n",
    "\n",
    "feature_names = feature_select\n",
    "clf = SkopeRules(max_depth_duplication=2,\n",
    "                 n_estimators=30,\n",
    "                 precision_min=0.3,\n",
    "                 recall_min=0.1,\n",
    "                 feature_names=feature_names)\n",
    "clf.fit(X_train,y_train)\n",
    "rules = clf.rules_\n",
    "print(\"Rules for my dataset\")\n",
    "for rule in rules:\n",
    "    print(rule)\n",
    "print()\n",
    "print(20*'=')\n",
    "print()"
   ]
  }
 ],
 "metadata": {
  "kernelspec": {
   "display_name": "Python 3",
   "language": "python",
   "name": "python3"
  },
  "language_info": {
   "codemirror_mode": {
    "name": "ipython",
    "version": 3
   },
   "file_extension": ".py",
   "mimetype": "text/x-python",
   "name": "python",
   "nbconvert_exporter": "python",
   "pygments_lexer": "ipython3",
   "version": "3.8.8"
  }
 },
 "nbformat": 4,
 "nbformat_minor": 5
}
